{
 "cells": [
  {
   "cell_type": "markdown",
   "metadata": {},
   "source": [
    "### Insert the prices of each item below and hit run!"
   ]
  },
  {
   "cell_type": "code",
   "execution_count": 76,
   "metadata": {},
   "outputs": [
    {
     "name": "stdout",
     "output_type": "stream",
     "text": [
      "The total value of the CoX loot table is 24940 bags.\n",
      "The average value of looting 1 chest in GM CoX is 177.77 bags.\n",
      "The total value of the ToB loot table is 43650 bags.\n",
      "The average value of looting 1 chest in GM ToB is 612.37 bags.\n",
      "A three man GM-ToB takes 18 minutes. A three man GM-CoX takes 9 minutes.\n",
      "So, let's double the average value of looting a chest in GM-CoX: 355.54\n",
      "GM-ToB is 1.7223659785115597 times more profitable than GM-CoX\n"
     ]
    }
   ],
   "source": [
    "xerician_pendant = 10000\n",
    "relic_of_xeric = 9800\n",
    "epic_pet_mystery_box = 600\n",
    "twisted_bow = 1400\n",
    "mystery_chest = 270\n",
    "ancestral_top = 1000\n",
    "ancestral_bottom = 1000\n",
    "elder_maul = 500\n",
    "x100_bags = 100\n",
    "kodai_wand = 170\n",
    "ancestral_hat = 100\n",
    "ghrazi_blood_hilt = 8000\n",
    "sanguinesti_enchantment_orb = 8000\n",
    "relic_of_blood_theatre = 16000\n",
    "scythe_of_vitur = 3800\n",
    "ghrazi_rapier = 1500\n",
    "sanguinesti_staff = 1500\n",
    "avernic_defender_hilt = 1500\n",
    "x3_treasure_chest = 360\n",
    "justiciar_chestguard = 1000\n",
    "justiciar_legguards = 1000\n",
    "justiciar_faceguard = 120\n",
    "\n",
    "LootTableCoX = xerician_pendant + relic_of_xeric + epic_pet_mystery_box + twisted_bow + mystery_chest + ancestral_top + ancestral_bottom + elder_maul + x100_bags + kodai_wand + ancestral_hat\n",
    "print(\"The total value of the CoX loot table is\", LootTableCoX, \"bags.\")\n",
    "WeightedLootTableCoX = xerician_pendant*.006 + relic_of_xeric*.006 + epic_pet_mystery_box*.035 + twisted_bow*.006 + mystery_chest*.035 + ancestral_top*.006 + ancestral_bottom*.006 + elder_maul*.006 + x100_bags*.035 + kodai_wand*.006 + ancestral_hat*.006\n",
    "print(\"The average value of looting 1 chest in GM CoX is\", WeightedLootTableCoX, \"bags.\")\n",
    "LootTableToB = ghrazi_blood_hilt + sanguinesti_enchantment_orb + relic_of_blood_theatre + scythe_of_vitur + epic_pet_mystery_box + mystery_chest + ghrazi_rapier + sanguinesti_staff + avernic_defender_hilt + x3_treasure_chest + justiciar_chestguard + justiciar_legguards + justiciar_faceguard\n",
    "print(\"The total value of the ToB loot table is\", LootTableToB, \"bags.\")\n",
    "WeightedLootTableToB = ghrazi_blood_hilt*.0175 + sanguinesti_enchantment_orb*.0175 + relic_of_blood_theatre*.006 + scythe_of_vitur*.018 + epic_pet_mystery_box*.075 + mystery_chest*.075 + ghrazi_rapier*.018 + sanguinesti_staff*.018 + avernic_defender_hilt*.006 + x3_treasure_chest*.075 + justiciar_chestguard*.006 + justiciar_legguards*.006 + justiciar_faceguard*.006\n",
    "print(\"The average value of looting 1 chest in GM ToB is\", WeightedLootTableToB, \"bags.\")\n",
    "AdjCoX = WeightedLootTableCoX*2\n",
    "print(\"A three man GM-ToB takes 18 minutes. A three man GM-CoX takes 9 minutes.\")\n",
    "print(\"So, let's double the average value of looting a chest in GM-CoX:\", AdjCoX)\n",
    "ratio = WeightedLootTableToB/AdjCoX\n",
    "print(\"GM-ToB is\", ratio, \"times more profitable than GM-CoX\")\n"
   ]
  }
 ],
 "metadata": {
  "kernelspec": {
   "display_name": "Python 3",
   "language": "python",
   "name": "python3"
  },
  "language_info": {
   "codemirror_mode": {
    "name": "ipython",
    "version": 3
   },
   "file_extension": ".py",
   "mimetype": "text/x-python",
   "name": "python",
   "nbconvert_exporter": "python",
   "pygments_lexer": "ipython3",
   "version": "3.8.3"
  }
 },
 "nbformat": 4,
 "nbformat_minor": 4
}
